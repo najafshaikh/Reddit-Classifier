{
 "cells": [
  {
   "cell_type": "markdown",
   "id": "e507827c",
   "metadata": {},
   "source": [
    "#  PROJECT 3: WEB APIs and NLP PART 2"
   ]
  },
  {
   "cell_type": "markdown",
   "id": "162c6260",
   "metadata": {},
   "source": [
    "#### Book 3: Modelling"
   ]
  },
  {
   "cell_type": "code",
   "execution_count": 64,
   "id": "64eb1e11",
   "metadata": {},
   "outputs": [],
   "source": [
    "# Imports\n",
    "import numpy as np\n",
    "import pandas as pd\n",
    "from sklearn.linear_model import LogisticRegression\n",
    "from sklearn.model_selection import train_test_split, cross_val_score, GridSearchCV\n",
    "from sklearn.pipeline import Pipeline\n",
    "from sklearn.feature_extraction.text import CountVectorizer, TfidfVectorizer\n",
    "from sklearn.naive_bayes import MultinomialNB\n",
    "from sklearn.neighbors import KNeighborsClassifier\n",
    "from sklearn.ensemble import RandomForestClassifier, BaggingClassifier, GradientBoostingClassifier, AdaBoostClassifier\n",
    "from sklearn.svm import SVC\n",
    "from sklearn.feature_extraction.text import CountVectorizer, TfidfVectorizer\n",
    "\n",
    "\n",
    "import matplotlib.pyplot as plt\n",
    "import seaborn as sns"
   ]
  },
  {
   "cell_type": "code",
   "execution_count": 2,
   "id": "8382451f",
   "metadata": {},
   "outputs": [],
   "source": [
    "posts = pd.read_csv('data/clean_pp_posts.csv')"
   ]
  },
  {
   "cell_type": "code",
   "execution_count": 3,
   "id": "c61ca3a3",
   "metadata": {},
   "outputs": [],
   "source": [
    "comments = pd.read_csv('data/clean_pp_comments.csv')"
   ]
  },
  {
   "cell_type": "code",
   "execution_count": 4,
   "id": "19e9e09c",
   "metadata": {},
   "outputs": [
    {
     "data": {
      "text/plain": [
       "(21609, 10)"
      ]
     },
     "execution_count": 4,
     "metadata": {},
     "output_type": "execute_result"
    }
   ],
   "source": [
    "posts.shape"
   ]
  },
  {
   "cell_type": "code",
   "execution_count": 5,
   "id": "93c158a0",
   "metadata": {},
   "outputs": [
    {
     "data": {
      "text/plain": [
       "(38424, 8)"
      ]
     },
     "execution_count": 5,
     "metadata": {},
     "output_type": "execute_result"
    }
   ],
   "source": [
    "comments.shape"
   ]
  },
  {
   "cell_type": "markdown",
   "id": "ef78635e",
   "metadata": {},
   "source": [
    "### 1.0 Modeling"
   ]
  },
  {
   "cell_type": "markdown",
   "id": "6414c6df",
   "metadata": {},
   "source": [
    "##### Train_Test Split"
   ]
  },
  {
   "cell_type": "code",
   "execution_count": 7,
   "id": "77dbd96a",
   "metadata": {},
   "outputs": [],
   "source": [
    "# Redefine X and y and resplit data\n",
    "X = posts['lem_tokens']\n",
    "y = posts['subreddit']\n",
    "\n",
    "X_train, X_test, y_train, y_test = train_test_split(X, y, test_size=.33, random_state=42)"
   ]
  },
  {
   "cell_type": "markdown",
   "id": "24df4c19",
   "metadata": {},
   "source": [
    "##### Baseline Score"
   ]
  },
  {
   "cell_type": "code",
   "execution_count": 29,
   "id": "c5d4f19b",
   "metadata": {},
   "outputs": [],
   "source": [
    "baseline = y_train.value_counts(normalize=True)"
   ]
  },
  {
   "cell_type": "code",
   "execution_count": 30,
   "id": "d5e1ae47",
   "metadata": {},
   "outputs": [
    {
     "data": {
      "text/plain": [
       "1    0.524106\n",
       "0    0.475894\n",
       "Name: subreddit, dtype: float64"
      ]
     },
     "execution_count": 30,
     "metadata": {},
     "output_type": "execute_result"
    }
   ],
   "source": [
    "baseline"
   ]
  },
  {
   "cell_type": "markdown",
   "id": "4ee4c82c",
   "metadata": {},
   "source": [
    "### 2.1 Logistic Regression"
   ]
  },
  {
   "cell_type": "code",
   "execution_count": 65,
   "id": "cf8b6079",
   "metadata": {},
   "outputs": [],
   "source": [
    "# Set up pipeline\n",
    "pipe_lr_c = Pipeline([\n",
    "    ('cvec', CountVectorizer(stop_words='english', ngram_range=(1,2))),\n",
    "    ('lr', LogisticRegression(solver='lbfgs', max_iter=5000))\n",
    "])\n",
    "\n",
    "# Set up pipeline params\n",
    "pipe_lr_c_params = {\n",
    "    'cvec__max_features': [200, 500],\n",
    "}"
   ]
  },
  {
   "cell_type": "code",
   "execution_count": 66,
   "id": "ab8d7846",
   "metadata": {},
   "outputs": [
    {
     "name": "stdout",
     "output_type": "stream",
     "text": [
      "Fitting 5 folds for each of 2 candidates, totalling 10 fits\n"
     ]
    }
   ],
   "source": [
    "# Set up a gridsearch\n",
    "gs_lr_c = GridSearchCV(pipe_lr_c, pipe_lr_c_params, cv=5, verbose=1)\n",
    "\n",
    "# Fit the gridsearch\n",
    "gs_lr_c.fit(X_train, y_train);"
   ]
  },
  {
   "cell_type": "code",
   "execution_count": 67,
   "id": "92f29a2f",
   "metadata": {},
   "outputs": [
    {
     "data": {
      "text/plain": [
       "0.889625640511837"
      ]
     },
     "execution_count": 67,
     "metadata": {},
     "output_type": "execute_result"
    }
   ],
   "source": [
    "gs_lr_c.best_score_"
   ]
  },
  {
   "cell_type": "code",
   "execution_count": 68,
   "id": "bf9ee0bf",
   "metadata": {},
   "outputs": [
    {
     "data": {
      "text/plain": [
       "Pipeline(steps=[('cvec',\n",
       "                 CountVectorizer(max_features=500, ngram_range=(1, 2),\n",
       "                                 stop_words='english')),\n",
       "                ('lr', LogisticRegression(max_iter=5000))])"
      ]
     },
     "execution_count": 68,
     "metadata": {},
     "output_type": "execute_result"
    }
   ],
   "source": [
    "gs_lr_c.best_estimator_"
   ]
  },
  {
   "cell_type": "code",
   "execution_count": 69,
   "id": "1f18ad59",
   "metadata": {},
   "outputs": [],
   "source": [
    "coefs= gs_lr_c.best_estimator_.named_steps.lr.coef_\n"
   ]
  },
  {
   "cell_type": "code",
   "execution_count": 77,
   "id": "1e480b93",
   "metadata": {},
   "outputs": [
    {
     "name": "stdout",
     "output_type": "stream",
     "text": [
      "Training Score: 0.9044757563199337\n",
      "Testing Score: 0.8834665544804375\n"
     ]
    }
   ],
   "source": [
    "print(f'Training Score: {gs_lr_c.score(X_train, y_train)}')\n",
    "print(f'Testing Score: {gs_lr_c.score(X_test, y_test)}')"
   ]
  },
  {
   "cell_type": "markdown",
   "id": "96e264de",
   "metadata": {},
   "source": [
    "### 2.2 Random Forest"
   ]
  },
  {
   "cell_type": "code",
   "execution_count": 12,
   "id": "2bfa332a",
   "metadata": {},
   "outputs": [],
   "source": [
    "# Set up pipeline\n",
    "pipe_rf_c = Pipeline([\n",
    "    ('cvec', CountVectorizer(stop_words='english', max_features=500, ngram_range=(1,2))),\n",
    "    ('rf', RandomForestClassifier())\n",
    "])\n",
    "\n",
    "# Set up pipeline parameters\n",
    "pipe_rf_c_params = {\n",
    "    'rf__n_estimators': [100, 150, 200],\n",
    "    'rf__max_depth': [None, 5, 6], \n",
    "    'rf__max_features': ['auto', 'log2'],\n",
    "    'rf__min_samples_split': [2, 50]\n",
    "}"
   ]
  },
  {
   "cell_type": "code",
   "execution_count": 13,
   "id": "19d8ac09",
   "metadata": {
    "scrolled": true
   },
   "outputs": [
    {
     "name": "stdout",
     "output_type": "stream",
     "text": [
      "Fitting 5 folds for each of 36 candidates, totalling 180 fits\n"
     ]
    }
   ],
   "source": [
    "# Set up a gridsearch\n",
    "gs_rf_c = GridSearchCV(pipe_rf_c, pipe_rf_c_params, cv=5, verbose=1)\n",
    "\n",
    "# Fit the gridsearch\n",
    "gs_rf_c.fit(X_train, y_train);"
   ]
  },
  {
   "cell_type": "code",
   "execution_count": 80,
   "id": "d3911c59",
   "metadata": {},
   "outputs": [
    {
     "data": {
      "text/plain": [
       "Pipeline(steps=[('cvec',\n",
       "                 CountVectorizer(max_features=500, ngram_range=(1, 2),\n",
       "                                 stop_words='english')),\n",
       "                ('rf',\n",
       "                 RandomForestClassifier(max_features='log2',\n",
       "                                        min_samples_split=50,\n",
       "                                        n_estimators=200))])"
      ]
     },
     "execution_count": 80,
     "metadata": {},
     "output_type": "execute_result"
    }
   ],
   "source": [
    "gs_rf_c.best_estimator_"
   ]
  },
  {
   "cell_type": "code",
   "execution_count": 14,
   "id": "2fb48831",
   "metadata": {},
   "outputs": [
    {
     "data": {
      "text/plain": [
       "0.887967442437428"
      ]
     },
     "execution_count": 14,
     "metadata": {},
     "output_type": "execute_result"
    }
   ],
   "source": [
    "gs_rf_c.best_score_"
   ]
  },
  {
   "cell_type": "code",
   "execution_count": 78,
   "id": "75317adc",
   "metadata": {},
   "outputs": [
    {
     "name": "stdout",
     "output_type": "stream",
     "text": [
      "Training Score: 0.937007874015748\n",
      "Testing Score: 0.8823446921890338\n"
     ]
    }
   ],
   "source": [
    "print(f'Training Score: {gs_rf_c.score(X_train, y_train)}')\n",
    "print(f'Testing Score: {gs_rf_c.score(X_test, y_test)}')"
   ]
  },
  {
   "cell_type": "markdown",
   "id": "a275acf3",
   "metadata": {},
   "source": [
    "### 2.3 KNN"
   ]
  },
  {
   "cell_type": "code",
   "execution_count": 15,
   "id": "5c06fef8",
   "metadata": {},
   "outputs": [],
   "source": [
    "# Set up pipeline\n",
    "pipe_knn_c = Pipeline([\n",
    "    ('cvec', CountVectorizer(stop_words='english', max_features=200, ngram_range=(1,2))),\n",
    "    ('knn', KNeighborsClassifier())\n",
    "])\n",
    "\n",
    "\n",
    "# Set up pipeline params\n",
    "pipe_knn_c_params = {\n",
    "    'cvec__max_features': [200, 500],\n",
    "    'knn__n_neighbors':[5, 15, 25, 35, 45],\n",
    "    'knn__p': [1, 2]\n",
    "}"
   ]
  },
  {
   "cell_type": "code",
   "execution_count": 16,
   "id": "a227ffdf",
   "metadata": {},
   "outputs": [
    {
     "name": "stdout",
     "output_type": "stream",
     "text": [
      "Fitting 5 folds for each of 20 candidates, totalling 100 fits\n"
     ]
    }
   ],
   "source": [
    "# Set up a gridsearch\n",
    "gs_knn_c = GridSearchCV(pipe_knn_c, pipe_knn_c_params, cv=5, verbose=1)\n",
    "\n",
    "# Fit the gridsearch\n",
    "gs_knn_c.fit(X_train, y_train);"
   ]
  },
  {
   "cell_type": "code",
   "execution_count": 17,
   "id": "ae2caa71",
   "metadata": {},
   "outputs": [
    {
     "data": {
      "text/plain": [
       "0.842104910352198"
      ]
     },
     "execution_count": 17,
     "metadata": {},
     "output_type": "execute_result"
    }
   ],
   "source": [
    "gs_knn_c.best_score_"
   ]
  },
  {
   "cell_type": "code",
   "execution_count": 79,
   "id": "30375af2",
   "metadata": {},
   "outputs": [
    {
     "name": "stdout",
     "output_type": "stream",
     "text": [
      "Training Score: 0.846525763226965\n",
      "Testing Score: 0.8259711120459964\n"
     ]
    }
   ],
   "source": [
    "print(f'Training Score: {gs_knn_c.score(X_train, y_train)}')\n",
    "print(f'Testing Score: {gs_knn_c.score(X_test, y_test)}')"
   ]
  },
  {
   "cell_type": "markdown",
   "id": "bc8b754e",
   "metadata": {},
   "source": [
    "### 2.0"
   ]
  },
  {
   "cell_type": "markdown",
   "id": "bc3cf8aa",
   "metadata": {},
   "source": [
    "### Comparing Models"
   ]
  },
  {
   "cell_type": "code",
   "execution_count": 45,
   "id": "4e3433a7",
   "metadata": {},
   "outputs": [
    {
     "data": {
      "text/html": [
       "<div>\n",
       "<style scoped>\n",
       "    .dataframe tbody tr th:only-of-type {\n",
       "        vertical-align: middle;\n",
       "    }\n",
       "\n",
       "    .dataframe tbody tr th {\n",
       "        vertical-align: top;\n",
       "    }\n",
       "\n",
       "    .dataframe thead th {\n",
       "        text-align: right;\n",
       "    }\n",
       "</style>\n",
       "<table border=\"1\" class=\"dataframe\">\n",
       "  <thead>\n",
       "    <tr style=\"text-align: right;\">\n",
       "      <th></th>\n",
       "      <th>type</th>\n",
       "      <th>accuracy</th>\n",
       "    </tr>\n",
       "  </thead>\n",
       "  <tbody>\n",
       "    <tr>\n",
       "      <th>0</th>\n",
       "      <td>['cvec', 'lr']</td>\n",
       "      <td>0.889626</td>\n",
       "    </tr>\n",
       "    <tr>\n",
       "      <th>1</th>\n",
       "      <td>['cvec', 'knn']</td>\n",
       "      <td>0.842105</td>\n",
       "    </tr>\n",
       "    <tr>\n",
       "      <th>2</th>\n",
       "      <td>['cvec', 'rf']</td>\n",
       "      <td>0.887967</td>\n",
       "    </tr>\n",
       "    <tr>\n",
       "      <th>3</th>\n",
       "      <td>baseline</td>\n",
       "      <td>0.524106</td>\n",
       "    </tr>\n",
       "  </tbody>\n",
       "</table>\n",
       "</div>"
      ],
      "text/plain": [
       "              type  accuracy\n",
       "0   ['cvec', 'lr']  0.889626\n",
       "1  ['cvec', 'knn']  0.842105\n",
       "2   ['cvec', 'rf']  0.887967\n",
       "3         baseline  0.524106"
      ]
     },
     "execution_count": 45,
     "metadata": {},
     "output_type": "execute_result"
    }
   ],
   "source": [
    "# Generate a dataframe of model & accuracy score\n",
    "list_of_models = [gs_lr_c, \n",
    "                  gs_knn_c, \n",
    "                  gs_rf_c,\n",
    "                  ]\n",
    "\n",
    "# Create an empty list for each model's dictionary\n",
    "models = []\n",
    "\n",
    "for mod in list_of_models:\n",
    "    # mod.best_score_\n",
    "    model = {}\n",
    "    model['type'] = str(list(mod.estimator.named_steps.keys()))\n",
    "    model['accuracy'] = mod.best_score_\n",
    "    models.append(model)\n",
    "\n",
    "# Append baseline for comparison\n",
    "baseline = {}\n",
    "baseline['type'] = 'baseline'\n",
    "baseline['accuracy'] = y_train.value_counts(normalize=True)[1]\n",
    "models.append(baseline)\n",
    "\n",
    "models_df = pd.DataFrame(models)\n",
    "models_df.head()"
   ]
  },
  {
   "cell_type": "code",
   "execution_count": 50,
   "id": "62657352",
   "metadata": {},
   "outputs": [
    {
     "data": {
      "image/png": "[encoded data removed]",
      "text/plain": [
       "<Figure size 1440x864 with 1 Axes>"
      ]
     },
     "metadata": {
      "needs_background": "light"
     },
     "output_type": "display_data"
    }
   ],
   "source": [
    "plt.figure(figsize=(20,12))\n",
    "sns.barplot(data=models_df, x='accuracy', y='type')\n",
    "plt.xlabel('Accuracy', size=28)\n",
    "plt.ylabel('Type of Model', size=28)\n",
    "plt.yticks(size=25)\n",
    "plt.xticks(size=28)\n",
    "plt.title('Scores', size=40)\n",
    "sns.despine(left=True, bottom=True);"
   ]
  }
 ],
 "metadata": {
  "kernelspec": {
   "display_name": "Python 3 (ipykernel)",
   "language": "python",
   "name": "python3"
  },
  "language_info": {
   "codemirror_mode": {
    "name": "ipython",
    "version": 3
   },
   "file_extension": ".py",
   "mimetype": "text/x-python",
   "name": "python",
   "nbconvert_exporter": "python",
   "pygments_lexer": "ipython3",
   "version": "3.9.7"
  }
 },
 "nbformat": 4,
 "nbformat_minor": 5
}
